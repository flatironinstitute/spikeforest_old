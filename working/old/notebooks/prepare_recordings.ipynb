{
 "cells": [
  {
   "cell_type": "code",
   "execution_count": 1,
   "metadata": {},
   "outputs": [
    {
     "name": "stdin",
     "output_type": "stream",
     "text": [
      "Enter password:  ····\n"
     ]
    },
    {
     "name": "stdout",
     "output_type": "stream",
     "text": [
      "CAIRIO CONFIG: remote database spikeforest (readwrite); remote kb-share 69432e9201d0 (readwrite)\n"
     ]
    }
   ],
   "source": [
    "%load_ext autoreload\n",
    "%autoreload 2\n",
    "\n",
    "import sfdata as sf\n",
    "from cairio import client as ca\n",
    "\n",
    "ca.autoConfig(collection='spikeforest',key='spikeforest2-readwrite',ask_password=True)"
   ]
  },
  {
   "cell_type": "code",
   "execution_count": 12,
   "metadata": {},
   "outputs": [
    {
     "data": {
      "text/plain": [
       "['magland_synth', 'magland_synth_test', 'sqmea_test']"
      ]
     },
     "execution_count": 12,
     "metadata": {},
     "output_type": "execute_result"
    }
   ],
   "source": [
    "ca.loadObject(key=dict(name='spikeforest_recording_group_names'))"
   ]
  },
  {
   "cell_type": "code",
   "execution_count": 5,
   "metadata": {},
   "outputs": [
    {
     "data": {
      "text/plain": [
       "True"
      ]
     },
     "execution_count": 5,
     "metadata": {},
     "output_type": "execute_result"
    }
   ],
   "source": [
    "ca.setValue(key='testkey',subkey='subkey1',value='subval1')\n",
    "ca.setValue(key='testkey',subkey='subkey2',value='subval2')"
   ]
  },
  {
   "cell_type": "code",
   "execution_count": 6,
   "metadata": {},
   "outputs": [
    {
     "data": {
      "text/plain": [
       "'{\"subkey1\":\"subval1\",\"subkey2\":\"subval2\"}'"
      ]
     },
     "execution_count": 6,
     "metadata": {},
     "output_type": "execute_result"
    }
   ],
   "source": [
    "ca.getValue(key='testkey',subkey='-')"
   ]
  },
  {
   "cell_type": "code",
   "execution_count": 7,
   "metadata": {},
   "outputs": [],
   "source": [
    "# The base directory used below\n",
    "basedir='kbucket://15734439d8cf/groundtruth'"
   ]
  },
  {
   "cell_type": "code",
   "execution_count": 8,
   "metadata": {},
   "outputs": [
    {
     "data": {
      "text/plain": [
       "'sha1://e1137931770015aac5a1fc8f0ac80acbeee0aa88/object.json'"
      ]
     },
     "execution_count": 8,
     "metadata": {},
     "output_type": "execute_result"
    }
   ],
   "source": [
    "ca.saveObject(\n",
    "    key=dict(name='spikeforest_recording_group_names'),\n",
    "    object=[\n",
    "        'magland_synth',\n",
    "        'magland_synth_test'\n",
    "    ]\n",
    ")"
   ]
  },
  {
   "cell_type": "markdown",
   "metadata": {},
   "source": [
    "# MAGLAND SYNTH"
   ]
  },
  {
   "cell_type": "code",
   "execution_count": 5,
   "metadata": {},
   "outputs": [],
   "source": [
    "def prepare_magland_synth_studies(*,basedir):\n",
    "    study_set_name='magland_synth'\n",
    "    studies=[]\n",
    "    recordings=[]\n",
    "    names=[]\n",
    "    names=names+['datasets_noise10_K10_C4','datasets_noise10_K10_C8']\n",
    "    names=names+['datasets_noise10_K20_C4','datasets_noise10_K20_C8']\n",
    "    names=names+['datasets_noise20_K10_C4','datasets_noise20_K10_C8']\n",
    "    names=names+['datasets_noise20_K20_C4','datasets_noise20_K20_C8']\n",
    "    description=ca.loadText(path=basedir+'/magland_synth/readme.txt')\n",
    "    for name in names:\n",
    "        study_name='magland_synth_'+name[9:]\n",
    "        study_dir=basedir+'/magland_synth/'+name\n",
    "        study0=dict(\n",
    "            name=study_name,\n",
    "            study_set=study_set_name,\n",
    "            directory=study_dir,\n",
    "            description=description\n",
    "        )\n",
    "        studies.append(study0)\n",
    "        dd=ca.readDir(study_dir)\n",
    "        for dsname in dd['dirs']:\n",
    "            dsdir='{}/{}'.format(study_dir,dsname)\n",
    "            recordings.append(dict(\n",
    "                name=dsname,\n",
    "                study=study_name,\n",
    "                directory=dsdir,\n",
    "                description='One of the recordings in the {} study'.format(study_name)\n",
    "            ))\n",
    "    return studies, recordings"
   ]
  },
  {
   "cell_type": "code",
   "execution_count": 7,
   "metadata": {},
   "outputs": [
    {
     "name": "stdout",
     "output_type": "stream",
     "text": [
      "Testing whether share 15734439d8cf is directly accessible...\n",
      "Share 15734439d8cf is not directly accessible.\n",
      "Uploading file --- (26.1 KiB): /tmp/tmp_cairioclient_jdutfjflcd.txt -> http://132.249.245.246:24342/upload/d41ed6b9b22ba7cf651c230b07aca996320298c6?signature=2b640b955d8b902dd59b10e9ae202cc799b0d69b\n",
      "Uploading file --- (1.6 KiB): /tmp/tmp_cairioclient_xexprgnbpx.txt -> http://132.249.245.246:24342/upload/21917f33305cee15890acc298764d0daca9f1198?signature=7a6afb66ed1d24117a336d9acee8c54edb967c83\n"
     ]
    },
    {
     "data": {
      "text/plain": [
       "'sha1://21917f33305cee15890acc298764d0daca9f1198/object.json'"
      ]
     },
     "execution_count": 7,
     "metadata": {},
     "output_type": "execute_result"
    }
   ],
   "source": [
    "# Prepare the studies\n",
    "studies,recordings=prepare_magland_synth_studies(basedir=basedir)\n",
    "ca.saveObject(\n",
    "    object=dict(\n",
    "        studies=studies,\n",
    "        recordings=recordings\n",
    "    ),\n",
    "    key=dict(name='spikeforest_recording_group',group_name='magland_synth')\n",
    ")\n",
    "ca.saveObject(\n",
    "    object=dict(\n",
    "        studies=[studies[0]],\n",
    "        recordings=recordings[0:3]\n",
    "    ),\n",
    "    key=dict(name='spikeforest_recording_group',group_name='magland_synth_test')\n",
    ")"
   ]
  },
  {
   "cell_type": "code",
   "execution_count": null,
   "metadata": {},
   "outputs": [],
   "source": [
    "# Summarize the recordings"
   ]
  },
  {
   "cell_type": "code",
   "execution_count": null,
   "metadata": {},
   "outputs": [],
   "source": []
  }
 ],
 "metadata": {
  "kernelspec": {
   "display_name": "Python 3",
   "language": "python",
   "name": "python3"
  },
  "language_info": {
   "codemirror_mode": {
    "name": "ipython",
    "version": 3
   },
   "file_extension": ".py",
   "mimetype": "text/x-python",
   "name": "python",
   "nbconvert_exporter": "python",
   "pygments_lexer": "ipython3",
   "version": "3.6.7"
  }
 },
 "nbformat": 4,
 "nbformat_minor": 2
}
