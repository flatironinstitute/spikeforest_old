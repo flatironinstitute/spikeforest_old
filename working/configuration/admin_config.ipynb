{
 "cells": [
  {
   "cell_type": "markdown",
   "metadata": {},
   "source": [
    "## Configuration of cairio.org\n",
    "\n",
    "Right now the central cairio server is hosted on https://pairio.org:20443\n",
    "\n",
    "This is a linode server\n",
    "\n",
    "Inside a tmux session called cairio:\n",
    "\n",
    "```\n",
    "cd ~/src/spikeforest2/mountaintools/cairioserver\n",
    "```\n",
    "\n",
    "See .env file containing:\n",
    "\n",
    "```\n",
    "PORT=20443\n",
    "CAIRIO_ADMIN_TOKEN=******\n",
    "```\n",
    "\n",
    "To run the server:\n",
    "\n",
    "```\n",
    "npm install .\n",
    "node cairioserver.js\n",
    "```\n",
    "\n",
    "There are instructions in the home directory for setting up firewall and renewing the certs"
   ]
  },
  {
   "cell_type": "code",
   "execution_count": 1,
   "metadata": {},
   "outputs": [],
   "source": [
    "%load_ext autoreload\n",
    "%autoreload 2\n",
    "\n",
    "# import cairio client and other packages\n",
    "from cairio import client as ca\n",
    "from cairio import CairioClient\n",
    "from getpass import getpass\n",
    "import os\n",
    "from getpass import getpass\n",
    "import json\n",
    "from simplecrypt import encrypt, decrypt\n",
    "import base64\n",
    "from dotenv import load_dotenv"
   ]
  },
  {
   "cell_type": "code",
   "execution_count": 2,
   "metadata": {},
   "outputs": [],
   "source": [
    "# Load secret stuff from the cairio.env file (only on the admin's computer)\n",
    "\n",
    "load_dotenv(dotenv_path='cairio.env',verbose=True)\n",
    "CAIRIO_ADMIN_TOKEN=os.environ['CAIRIO_ADMIN_TOKEN']"
   ]
  },
  {
   "cell_type": "code",
   "execution_count": 3,
   "metadata": {},
   "outputs": [
    {
     "data": {
      "text/plain": [
       "True"
      ]
     },
     "execution_count": 3,
     "metadata": {},
     "output_type": "execute_result"
    }
   ],
   "source": [
    "# Let's set up the admin collection where we will store the user login information\n",
    "# It will have the same token as the admin token\n",
    "\n",
    "ca.addRemoteCollection(collection='admin', token=CAIRIO_ADMIN_TOKEN, admin_token=CAIRIO_ADMIN_TOKEN)"
   ]
  },
  {
   "cell_type": "code",
   "execution_count": 4,
   "metadata": {},
   "outputs": [
    {
     "name": "stdin",
     "output_type": "stream",
     "text": [
      "Enter an encryption password for magland:  ·····\n"
     ]
    },
    {
     "name": "stdout",
     "output_type": "stream",
     "text": [
      "CAIRIO CONFIG: remote database admin (readwrite); local sha-1 cache\n"
     ]
    },
    {
     "name": "stdin",
     "output_type": "stream",
     "text": [
      "Enter an encryption password for jjun:  ·····\n"
     ]
    },
    {
     "name": "stdout",
     "output_type": "stream",
     "text": [
      "CAIRIO CONFIG: remote database admin (readwrite); local sha-1 cache\n"
     ]
    }
   ],
   "source": [
    "# Now let's add some users.\n",
    "\n",
    "def set_user_config(user,config):\n",
    "    key=dict(\n",
    "        name='user_config',\n",
    "        user=user\n",
    "    )\n",
    "    val=base64.b64encode(encrypt(getpass('Enter an encryption password for {}: '.format(user)),json.dumps(config))).decode()\n",
    "    cc=CairioClient()\n",
    "    cc.setRemoteConfig(collection='admin',token=CAIRIO_ADMIN_TOKEN)\n",
    "    cc.setValue(\n",
    "        key=key,\n",
    "        value=val\n",
    "    )\n",
    "\n",
    "# user=magland\n",
    "config=dict(\n",
    "    kbucket_shares=[\n",
    "        dict(hub='kbucket.flatironinstitute.org',name='sf_raw',node_id='15734439d8cf'),\n",
    "        dict(hub='kbucket.flatironinstitute.org',name='spikeforest1',node_id='7317cea8265b',upload_token=os.environ['SPIKEFOREST1_UPLOAD_TOKEN']),\n",
    "        dict(hub='kbucket.flatironinstitute.org',name='spikeforest2',node_id='69432e9201d0',upload_token=os.environ['SPIKEFOREST2_UPLOAD_TOKEN'])\n",
    "    ],\n",
    "    cairio_collections=[\n",
    "        dict(database='default',name='spikeforest',token=os.environ['SPIKEFOREST_TOKEN'])\n",
    "    ]\n",
    ")\n",
    "set_user_config('magland',config)\n",
    "set_user_config('jjun',config)"
   ]
  },
  {
   "cell_type": "code",
   "execution_count": 5,
   "metadata": {},
   "outputs": [
    {
     "name": "stdin",
     "output_type": "stream",
     "text": [
      "Cairio password for magland:  ·····\n"
     ]
    },
    {
     "name": "stdout",
     "output_type": "stream",
     "text": [
      "Logging in as magland...\n",
      "Logged in as magland\n",
      "CAIRIO CONFIG: remote database spikeforest (readwrite); remote kb-share 69432e9201d0 (readwrite)\n"
     ]
    }
   ],
   "source": [
    "# Now this is how we would log in as magland and configure the cairio client:\n",
    "\n",
    "ca.login(user='magland', ask_password=True)\n",
    "ca.configRemoteReadWrite(collection='spikeforest',share_id='69432e9201d0')"
   ]
  },
  {
   "cell_type": "code",
   "execution_count": 6,
   "metadata": {},
   "outputs": [
    {
     "name": "stdout",
     "output_type": "stream",
     "text": [
      "CAIRIO CONFIG: remote database spikeforest (readonly); remote kb-share 69432e9201d0 (readonly)\n"
     ]
    }
   ],
   "source": [
    "# Or we can configure for readonly\n",
    "\n",
    "ca.configRemoteReadonly(collection='spikeforest',share_id='69432e9201d0')"
   ]
  },
  {
   "cell_type": "code",
   "execution_count": 6,
   "metadata": {},
   "outputs": [
    {
     "data": {
      "text/plain": [
       "True"
      ]
     },
     "execution_count": 6,
     "metadata": {},
     "output_type": "execute_result"
    }
   ],
   "source": [
    "# Let's set the token for the remote spikeforest collection\n",
    "\n",
    "collection='spikeforest'\n",
    "ca.addRemoteCollection(collection=collection, token=os.environ['SPIKEFOREST_TOKEN'], admin_token=CAIRIO_ADMIN_TOKEN)"
   ]
  },
  {
   "cell_type": "code",
   "execution_count": 8,
   "metadata": {},
   "outputs": [
    {
     "name": "stdin",
     "output_type": "stream",
     "text": [
      "Cairio password for magland:  ·····\n"
     ]
    },
    {
     "name": "stdout",
     "output_type": "stream",
     "text": [
      "Logging in as magland...\n",
      "Logged in as magland\n",
      "CAIRIO CONFIG: remote database spikeforest (readwrite); remote kb-share 69432e9201d0 (readwrite)\n",
      "Testing whether share 69432e9201d0 is directly accessible...\n",
      "Share 69432e9201d0 is directly accessible.\n",
      "{'test': 1}\n",
      "{'test': 2}\n"
     ]
    }
   ],
   "source": [
    "###### Let's do a test\n",
    "ca.login(user='magland',ask_password=True)\n",
    "ca.configRemoteReadWrite(collection='spikeforest',share_id='69432e9201d0')\n",
    "\n",
    "ca.saveObject(key='test1',object=dict(test=1))\n",
    "print(ca.loadObject(key='test1'))\n",
    "ca.saveObject(key='test1',object=dict(test=2))\n",
    "print(ca.loadObject(key='test1'))"
   ]
  }
 ],
 "metadata": {
  "kernelspec": {
   "display_name": "Python 3",
   "language": "python",
   "name": "python3"
  },
  "language_info": {
   "codemirror_mode": {
    "name": "ipython",
    "version": 3
   },
   "file_extension": ".py",
   "mimetype": "text/x-python",
   "name": "python",
   "nbconvert_exporter": "python",
   "pygments_lexer": "ipython3",
   "version": "3.6.7"
  }
 },
 "nbformat": 4,
 "nbformat_minor": 2
}
