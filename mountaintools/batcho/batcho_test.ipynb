{
 "cells": [
  {
   "cell_type": "code",
   "execution_count": 30,
   "metadata": {},
   "outputs": [
    {
     "name": "stdout",
     "output_type": "stream",
     "text": [
      "The autoreload extension is already loaded. To reload it, use:\n",
      "  %reload_ext autoreload\n"
     ]
    }
   ],
   "source": [
    "%load_ext autoreload\n",
    "%autoreload 2\n",
    "import batcho\n",
    "from cairio import client as ca\n",
    "import mlprocessors as mlpr"
   ]
  },
  {
   "cell_type": "code",
   "execution_count": 31,
   "metadata": {},
   "outputs": [],
   "source": [
    "# ca.autoConfig(collection='spikeforest',key='spikeforest0-readwrite',ask_password=True)"
   ]
  },
  {
   "cell_type": "code",
   "execution_count": 32,
   "metadata": {},
   "outputs": [
    {
     "name": "stdout",
     "output_type": "stream",
     "text": [
      "val12\n",
      "{\"subkey-1\": \"val11\", \"subkey-2\": \"val12\"}\n"
     ]
    }
   ],
   "source": [
    "ca.setValue(key='test-key-1',subkey='subkey-1',value='val11')\n",
    "ca.setValue(key='test-key-1',subkey='subkey-2',value='val12')\n",
    "print(ca.getValue(key='test-key-1',subkey='subkey-2'))\n",
    "print(ca.getValue(key='test-key-1',subkey='-'))"
   ]
  },
  {
   "cell_type": "code",
   "execution_count": 33,
   "metadata": {},
   "outputs": [],
   "source": [
    "def cmd1_prepare(job):\n",
    "    print('preparing job')\n",
    "    \n",
    "def cmd1_run(job):\n",
    "    print('testing------------------------------------')\n",
    "    print(job)\n",
    "    print('testing------------------------------------')\n",
    "    return dict(test=3,the_job=job)\n",
    "\n",
    "batcho.register_job_command(\n",
    "    command='cmd1',\n",
    "    prepare=cmd1_prepare,\n",
    "    run=cmd1_run\n",
    ")"
   ]
  },
  {
   "cell_type": "code",
   "execution_count": 34,
   "metadata": {},
   "outputs": [],
   "source": [
    "batcho.stop_batch(batch_name='batch1')"
   ]
  },
  {
   "cell_type": "code",
   "execution_count": 35,
   "metadata": {},
   "outputs": [],
   "source": [
    "jobs=[\n",
    "    dict(command='cmd1',label='job1',name='first_job'),\n",
    "    dict(command='cmd1',label='job2',name='second_job')\n",
    "]\n",
    "batcho.set_batch(batch_name='batch1',jobs=jobs)"
   ]
  },
  {
   "cell_type": "code",
   "execution_count": 36,
   "metadata": {},
   "outputs": [
    {
     "name": "stdout",
     "output_type": "stream",
     "text": [
      "Retrieving batch batch1\n",
      "Batch (batch1) has 2 jobs.\n",
      "Preparing job job1 in batch:\n",
      "preparing job\n",
      "Preparing job job2 in batch:\n",
      "preparing job\n",
      "Prepared 2 jobs for batch: batch1\n",
      "Retrieving batch batch1\n",
      "RUN: Batch (batch1) has 2 jobs.\n",
      "Running job job1 in batch: batch1\n",
      "Running job job1 in batch: batch1\n",
      "testing------------------------------------\n",
      "{'command': 'cmd1', 'label': 'job1', 'name': 'first_job'}\n",
      "testing------------------------------------\n",
      "Running job job2 in batch: batch1\n",
      "Running job job2 in batch: batch1\n",
      "testing------------------------------------\n",
      "{'command': 'cmd1', 'label': 'job2', 'name': 'second_job'}\n",
      "testing------------------------------------\n",
      "Retrieving batch batch1\n",
      "Batch (batch1) has 2 jobs.\n",
      "ASSEMBLING job result for job1\n",
      "ASSEMBLING job result for job2\n",
      "Assembling 2 results\n"
     ]
    },
    {
     "data": {
      "text/plain": [
       "True"
      ]
     },
     "execution_count": 36,
     "metadata": {},
     "output_type": "execute_result"
    }
   ],
   "source": [
    "batcho.prepare_batch(batch_name='batch1',clear_jobs=True)\n",
    "batcho.run_batch(batch_name='batch1')\n",
    "batcho.assemble_batch(batch_name='batch1')"
   ]
  },
  {
   "cell_type": "code",
   "execution_count": 37,
   "metadata": {},
   "outputs": [
    {
     "data": {
      "text/plain": [
       "{'0': 'finished', '1': 'finished'}"
      ]
     },
     "execution_count": 37,
     "metadata": {},
     "output_type": "execute_result"
    }
   ],
   "source": [
    "batcho.get_batch_job_statuses(batch_name='batch1')"
   ]
  },
  {
   "cell_type": "code",
   "execution_count": 38,
   "metadata": {},
   "outputs": [
    {
     "name": "stdout",
     "output_type": "stream",
     "text": [
      "testing------------------------------------\n",
      "{'command': 'cmd1', 'label': 'job1', 'name': 'first_job'}\n",
      "testing------------------------------------\n",
      "\n"
     ]
    }
   ],
   "source": [
    "str=batcho.get_batch_job_console_output(batch_name='batch1',job_index=0)\n",
    "print(str)"
   ]
  },
  {
   "cell_type": "code",
   "execution_count": 39,
   "metadata": {},
   "outputs": [
    {
     "data": {
      "text/plain": [
       "{'results': [{'job': {'command': 'cmd1', 'label': 'job1', 'name': 'first_job'},\n",
       "   'result': {'test': 3,\n",
       "    'the_job': {'command': 'cmd1', 'label': 'job1', 'name': 'first_job'}}},\n",
       "  {'job': {'command': 'cmd1', 'label': 'job2', 'name': 'second_job'},\n",
       "   'result': {'test': 3,\n",
       "    'the_job': {'command': 'cmd1', 'label': 'job2', 'name': 'second_job'}}}]}"
      ]
     },
     "execution_count": 39,
     "metadata": {},
     "output_type": "execute_result"
    }
   ],
   "source": [
    "batcho.get_batch_results(batch_name='batch1')"
   ]
  },
  {
   "cell_type": "code",
   "execution_count": null,
   "metadata": {},
   "outputs": [],
   "source": []
  }
 ],
 "metadata": {
  "kernelspec": {
   "display_name": "Python 3",
   "language": "python",
   "name": "python3"
  },
  "language_info": {
   "codemirror_mode": {
    "name": "ipython",
    "version": 3
   },
   "file_extension": ".py",
   "mimetype": "text/x-python",
   "name": "python",
   "nbconvert_exporter": "python",
   "pygments_lexer": "ipython3",
   "version": "3.6.7"
  }
 },
 "nbformat": 4,
 "nbformat_minor": 2
}
