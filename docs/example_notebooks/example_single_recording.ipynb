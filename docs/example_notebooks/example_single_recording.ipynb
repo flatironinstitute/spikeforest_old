{
 "cells": [
  {
   "cell_type": "code",
   "execution_count": null,
   "metadata": {},
   "outputs": [],
   "source": [
    "# This example runs single recording sorting using local computer\n",
    "# Created by James Jun on Feb 26, 2019\n",
    "\n",
    "# prerequisits\n",
    "#   pip install ml_ms4alg\n",
    "\n",
    "# please ignore the warning when running MountainSort4\n",
    "#   RuntimeWarning: numpy.ufunc size changed, may indicate binary incompatibility. Expected 216, got 192\n"
   ]
  },
  {
   "cell_type": "code",
   "execution_count": null,
   "metadata": {},
   "outputs": [],
   "source": [
    "%load_ext autoreload\n",
    "%autoreload 2"
   ]
  },
  {
   "cell_type": "code",
   "execution_count": null,
   "metadata": {},
   "outputs": [],
   "source": [
    "import spikeforest_analysis as sa\n",
    "import spikeextractors as se\n",
    "import os\n",
    "import shutil\n",
    "import sfdata as sf\n",
    "import numpy as np\n",
    "from spikesorters import IronClust, MountainSort4\n",
    "\n",
    "import spiketoolkit as st\n",
    "import spikewidgets as sw"
   ]
  },
  {
   "cell_type": "code",
   "execution_count": null,
   "metadata": {},
   "outputs": [],
   "source": [
    "# select a data source and sorter\n",
    "# you may change the data source index and sorter index\n",
    "v_datasource = ['generate', 'download']\n",
    "v_sorter = ['IronClust', 'MountainSort4']\n",
    "i_datasource = 0\n",
    "i_sorter = 1\n",
    "\n",
    "params = dict(\n",
    "    datasource = v_datasource[i_datasource], \n",
    "    sorter = v_sorter[i_sorter],\n",
    "    in_path = 'recordings/example1',\n",
    "    out_path = 'sortings/example1'\n",
    "    )"
   ]
  },
  {
   "cell_type": "code",
   "execution_count": null,
   "metadata": {},
   "outputs": [],
   "source": [
    "# Define sorters\n",
    "\n",
    "def irc(recpath, firings_out):\n",
    "    return IronClust.execute(\n",
    "            recording_dir=recpath,\n",
    "            firings_out=firings_out,\n",
    "            detect_sign=-1,\n",
    "            adjacency_radius=100,\n",
    "            prm_template_name='static')\n",
    "\n",
    "def ms4(recpath, firings_out):\n",
    "    return MountainSort4.execute(\n",
    "            recording_dir=recpath,\n",
    "            firings_out=firings_out,\n",
    "            detect_sign=-1,\n",
    "            adjacency_radius=100)\n",
    "\n",
    "v_sorters = dict(IronClust=irc, MountainSort4=ms4)"
   ]
  },
  {
   "cell_type": "code",
   "execution_count": null,
   "metadata": {},
   "outputs": [],
   "source": [
    "# get recording\n",
    "recpath = params['in_path']\n",
    "savepath = params['out_path']\n",
    "\n",
    "# delete previous recording\n",
    "if os.path.exists(recpath): shutil.rmtree(recpath)\n",
    "if not os.path.exists(recpath): os.makedirs(recpath)\n",
    "if not os.path.exists(savepath): os.makedirs(savepath)\n",
    "        \n",
    "if params['datasource'] is 'generate':\n",
    "    # generate recording\n",
    "    rx, sx_true = se.example_datasets.toy_example1(\n",
    "        duration=600, num_channels=4, samplerate=30000, K=10)\n",
    "else:\n",
    "    # download recording\n",
    "    kpath = 'kbucket://8b61fa1d5901/'\n",
    "    rx = se.MdaRecordingExtractor(kpath, download=True)\n",
    "    sx_true = se.MdaSortingExtractor(kpath + 'firings_true.mda')   \n",
    "    \n",
    "se.MdaRecordingExtractor.writeRecording(\n",
    "    recording=rx, save_path=recpath)\n",
    "se.MdaSortingExtractor.writeSorting(\n",
    "    sorting=sx_true, save_path=os.path.join(savepath, 'firings_true.mda'))"
   ]
  },
  {
   "cell_type": "code",
   "execution_count": null,
   "metadata": {},
   "outputs": [],
   "source": [
    "# Run spike sorting\n",
    "\n",
    "firings_out = os.path.join(savepath, 'firings_out.mda')\n",
    "v_sorters[params['sorter']](\n",
    "    recpath, \n",
    "    firings_out)\n",
    "sx = se.MdaSortingExtractor(firings_out)\n"
   ]
  },
  {
   "cell_type": "code",
   "execution_count": null,
   "metadata": {},
   "outputs": [],
   "source": [
    "# Run validation and display\n",
    "comparison=st.comparison.SortingComparison(sorting1=sx_true,sorting2=sx,sorting1_name='irc',sorting2_name='true')\n",
    "comparison_table = sw.SortingComparisonTable(comparison=comparison)\n",
    "\n",
    "print('sorting output for {}:'.format(params['sorter']))\n",
    "comparison_table.display()"
   ]
  },
  {
   "cell_type": "code",
   "execution_count": null,
   "metadata": {},
   "outputs": [],
   "source": []
  }
 ],
 "metadata": {
  "kernelspec": {
   "display_name": "Python 3",
   "language": "python",
   "name": "python3"
  },
  "language_info": {
   "codemirror_mode": {
    "name": "ipython",
    "version": 3
   },
   "file_extension": ".py",
   "mimetype": "text/x-python",
   "name": "python",
   "nbconvert_exporter": "python",
   "pygments_lexer": "ipython3",
   "version": "3.6.8"
  }
 },
 "nbformat": 4,
 "nbformat_minor": 2
}
