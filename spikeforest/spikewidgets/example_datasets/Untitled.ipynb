{
 "cells": [
  {
   "cell_type": "code",
   "execution_count": null,
   "metadata": {},
   "outputs": [],
   "source": [
    "# For development purposes, reload imported modules when source changes\n",
    "%load_ext autoreload\n",
    "%autoreload 2\n",
    "\n",
    "import spikeinterface as si\n",
    "import numpy as np\n",
    "from synthesize_random_waveforms import synthesize_random_waveforms\n",
    "from synthesize_random_firings import synthesize_random_firings\n",
    "from synthesize_timeseries import synthesize_timeseries\n",
    "import numpy as np"
   ]
  },
  {
   "cell_type": "code",
   "execution_count": null,
   "metadata": {},
   "outputs": [],
   "source": [
    "def toy_example1():\n",
    "    num_channels=4\n",
    "    duration=10\n",
    "    samplerate=30000\n",
    "    K=10\n",
    "    upsamplefac=13\n",
    "\n",
    "    waveforms,geom=synthesize_random_waveforms(K=K,M=num_channels,average_peak_amplitude=-100,upsamplefac=upsamplefac)\n",
    "    times,labels=synthesize_random_firings(K=K,duration=duration,samplerate=samplerate)\n",
    "    labels=labels.astype(np.int64)\n",
    "    OX=si.NumpyOutputExtractor()\n",
    "    OX.setTimesLabels(times,labels)\n",
    "    X=synthesize_timeseries(sorting=OX,waveforms=waveforms,noise_level=10,samplerate=samplerate,duration=duration,waveform_upsamplefac=upsamplefac)\n",
    "\n",
    "    IX=si.NumpyRecordingExtractor(timeseries=X,samplerate=samplerate,geom=geom)\n",
    "    return (IX,OX)"
   ]
  },
  {
   "cell_type": "code",
   "execution_count": null,
   "metadata": {},
   "outputs": [],
   "source": [
    "(IX,PX)=toy_example1()"
   ]
  },
  {
   "cell_type": "code",
   "execution_count": null,
   "metadata": {},
   "outputs": [],
   "source": []
  }
 ],
 "metadata": {
  "kernelspec": {
   "display_name": "Python 3",
   "language": "python",
   "name": "python3"
  },
  "language_info": {
   "codemirror_mode": {
    "name": "ipython",
    "version": 3
   },
   "file_extension": ".py",
   "mimetype": "text/x-python",
   "name": "python",
   "nbconvert_exporter": "python",
   "pygments_lexer": "ipython3",
   "version": "3.6.2"
  }
 },
 "nbformat": 4,
 "nbformat_minor": 2
}
