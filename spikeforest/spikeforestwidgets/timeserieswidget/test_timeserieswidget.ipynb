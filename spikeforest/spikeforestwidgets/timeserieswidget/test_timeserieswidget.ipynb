{
 "cells": [
  {
   "cell_type": "code",
   "execution_count": 1,
   "metadata": {},
   "outputs": [
    {
     "data": {
      "application/vnd.jupyter.widget-view+json": {
       "model_id": "5fd9a6077b1f4f4ea41e13013e6f5030",
       "version_major": 2,
       "version_minor": 0
      },
      "text/plain": [
       "JSProxyWidget(status='Not yet rendered')"
      ]
     },
     "metadata": {},
     "output_type": "display_data"
    }
   ],
   "source": [
    "%load_ext autoreload\n",
    "%autoreload 2\n",
    "        \n",
    "import spikeforestwidgets as SFW\n",
    "import spikeextractors as se\n",
    "import vdomr as vd\n",
    "\n",
    "vd.config_jupyter()"
   ]
  },
  {
   "cell_type": "code",
   "execution_count": 2,
   "metadata": {},
   "outputs": [],
   "source": [
    "recording,sorting=se.example_datasets.toy_example1(duration=1,num_channels=4,samplerate=30000)"
   ]
  },
  {
   "cell_type": "code",
   "execution_count": 3,
   "metadata": {},
   "outputs": [
    {
     "data": {
      "text/html": [
       "<div id=SFTimeseriesWidget-be5fca7f-5272-4aa8-9d9d-bf97d1e28ad9><div id=\"SFTimeseriesWidget-be5fca7f-5272-4aa8-9d9d-bf97d1e28ad9\"></div></div>"
      ],
      "text/plain": [
       "<spikeforestwidgets.timeserieswidget.timeserieswidget.TimeseriesWidget at 0x7f59f12e7be0>"
      ]
     },
     "metadata": {},
     "output_type": "display_data"
    }
   ],
   "source": [
    "X=SFW.TimeseriesWidget(recording=recording)\n",
    "display(X)"
   ]
  },
  {
   "cell_type": "code",
   "execution_count": 10,
   "metadata": {},
   "outputs": [
    {
     "data": {
      "text/html": [
       "<div>hello</div>"
      ],
      "text/plain": [
       "<vdomr.vdom.VDOM at 0x7f96b0387080>"
      ]
     },
     "metadata": {},
     "output_type": "display_data"
    }
   ],
   "source": [
    "display(vd.div('hello'))"
   ]
  },
  {
   "cell_type": "code",
   "execution_count": null,
   "metadata": {},
   "outputs": [],
   "source": []
  }
 ],
 "metadata": {
  "kernelspec": {
   "display_name": "Python 3",
   "language": "python",
   "name": "python3"
  },
  "language_info": {
   "codemirror_mode": {
    "name": "ipython",
    "version": 3
   },
   "file_extension": ".py",
   "mimetype": "text/x-python",
   "name": "python",
   "nbconvert_exporter": "python",
   "pygments_lexer": "ipython3",
   "version": "3.6.7"
  }
 },
 "nbformat": 4,
 "nbformat_minor": 2
}
